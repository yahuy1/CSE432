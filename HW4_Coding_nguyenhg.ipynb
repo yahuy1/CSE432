{
  "nbformat": 4,
  "nbformat_minor": 0,
  "metadata": {
    "colab": {
      "provenance": [],
      "include_colab_link": true
    },
    "kernelspec": {
      "name": "python3",
      "display_name": "Python 3"
    },
    "language_info": {
      "name": "python"
    },
    "accelerator": "GPU"
  },
  "cells": [
    {
      "cell_type": "markdown",
      "metadata": {
        "id": "view-in-github",
        "colab_type": "text"
      },
      "source": [
        "<a href=\"https://colab.research.google.com/github/yahuy1/CSE432/blob/main/HW4_Coding_nguyenhg.ipynb\" target=\"_parent\"><img src=\"https://colab.research.google.com/assets/colab-badge.svg\" alt=\"Open In Colab\"/></a>"
      ]
    },
    {
      "cell_type": "markdown",
      "source": [
        "# HW4: Advanced challenge for Linear regression\n",
        "\n",
        "Please read the slides of chapter 3.2 and finish this assignment.\n",
        "\n",
        "You can find the demo for the linear regression with code in the following link\n",
        "https://colab.research.google.com/drive/1ONTJ_L_4CMcyJcXdCeljRntazdW1zjW6?usp=sharing\n",
        "\n",
        "Please follow this example to finish this assignment."
      ],
      "metadata": {
        "id": "Ug8UnkyBhrBq"
      }
    },
    {
      "cell_type": "markdown",
      "source": [
        "## The new equation and new dataset\n",
        "In this homework, you are given a new dataset. Please run the following code to check the data you got.\n",
        "\n",
        "\n",
        "Based on the dataset, it seems that we should use a new equation (new model) to fit the data. In this question, the proposed model is a polynomial model, but you can also use what you learned for linear regression for finding the best parameters.\n",
        "\n",
        "Let's use the following polynomial equation as the model:\n",
        "\n",
        "y=ϴ0*x^2+ϴ1*x+ϴ2\n",
        "\n",
        "at first we set ϴ0=0, ϴ1=0, ϴ2=0"
      ],
      "metadata": {
        "id": "O17Qr4P5h6db"
      }
    },
    {
      "cell_type": "code",
      "source": [
        "import matplotlib.pyplot as plt\n",
        "import numpy as np\n",
        "\n",
        "\n",
        "x_GT = np.array([0, 0.5, 1, 1.5, 2, 3])\n",
        "y_GT = np.array([1, 0.25, 0, 0.25, 1, 4])\n",
        "plt.scatter(x_GT, y_GT,marker='x', color='r')\n",
        "#plt.show()\n",
        "\n",
        "Th0=0  #ϴ0\n",
        "Th1=0   #ϴ1\n",
        "Th2=0   #ϴ2\n",
        "xpoints = np.linspace(0, 3, 100)\n",
        "\n",
        "Y_p=Th0*xpoints*xpoints+Th1*xpoints+Th2\n",
        "\n",
        "plt.plot(xpoints, Y_p)\n",
        "plt.show()"
      ],
      "metadata": {
        "id": "irzw3w-hiphr",
        "outputId": "b012b663-9eaf-4019-b9c2-6573aeee5b5e",
        "colab": {
          "base_uri": "https://localhost:8080/",
          "height": 265
        }
      },
      "execution_count": null,
      "outputs": [
        {
          "output_type": "display_data",
          "data": {
            "text/plain": [
              "<Figure size 432x288 with 1 Axes>"
            ],
            "image/png": "[encoded data removed]"
          },
          "metadata": {
            "needs_background": "light"
          }
        }
      ]
    },
    {
      "cell_type": "markdown",
      "source": [
        "Based on the linear regression algorithm, you need first obtain the data and propose a model, which we have done in the above. Now we need to calculate the l2-loss and use gradient descent to calculate the parameters: ϴ0, ϴ1, ϴ2\n",
        "\n",
        "## Please design the gradient descent function for each step and the loss function by completing the following code\n",
        "\n",
        "Please read the slides of chapter 3.2 to implement the code.\n",
        "\n",
        "This function is just one step of the gradient descent. And this function will be called several time in the last code block, where we will run this function 6000 times in the \"for\" loop.\n",
        "\n",
        "**Tips**: write down the equations for gradient decent first by following the slides of chapter 3.2"
      ],
      "metadata": {
        "id": "lK-1Bfbqi-th"
      }
    },
    {
      "cell_type": "code",
      "source": [
        "def GradientDecent(Th0,Th1,Th2,x_GT,y_GT,Lr):\n",
        "  \n",
        "  ########################\n",
        "  # Input your code here #\n",
        "  ########################\n",
        "    \n",
        "   \n",
        "    \n",
        "    \n",
        "  ####################\n",
        "  # End of your code #\n",
        "  ####################\n",
        "  return Th0,Th1,Th2\n",
        "  \n",
        "def LossValue(Th0,Th1,Th2,x_GT,y_GT):\n",
        "  a=x_GT.shape[0]\n",
        "  Loss=0\n",
        "  ########################\n",
        "  # Input your code here #\n",
        "  ########################\n",
        "    \n",
        "   \n",
        "    \n",
        "    \n",
        "  ####################\n",
        "  # End of your code #\n",
        "  ####################\n",
        "  return Loss"
      ],
      "metadata": {
        "id": "acwcxqBBjMO7"
      },
      "execution_count": null,
      "outputs": []
    },
    {
      "cell_type": "code",
      "source": [],
      "metadata": {
        "id": "RbQH4Fu7_u40"
      },
      "execution_count": null,
      "outputs": []
    },
    {
      "cell_type": "markdown",
      "source": [
        "## The following is the iterations of the entire gradient descent. \n",
        "\n",
        "Please run the following code to test your code.\n",
        "\n",
        "In the following code, you will run the gradient descent 6000 times to calculate the ϴ0, ϴ1, ϴ2. The learning rate is set as 0.0005."
      ],
      "metadata": {
        "id": "0T4HJXJ6iotn"
      }
    },
    {
      "cell_type": "code",
      "source": [
        "Lr=0.0005 #  \n",
        "Iteration=6000\n",
        "for i in range(Iteration):\n",
        "  \n",
        "  Th0,Th1,Th2=GradientDecent(Th0,Th1,Th2,x_GT,y_GT,Lr)\n",
        "  if i<Iteration-2:\n",
        "    continue\n",
        "  plt.scatter(x_GT, y_GT,marker='x', color='r')\n",
        "  Y_p=Th0*xpoints*xpoints+Th1*xpoints+Th2\n",
        "  plt.plot(xpoints, Y_p)\n",
        "  plt.show()\n",
        "  L=LossValue(Th0,Th1,Th2,x_GT,y_GT)\n",
        "  print(L,Th0,Th1,Th2)"
      ],
      "metadata": {
        "id": "J7bbT-Eljzdh"
      },
      "execution_count": null,
      "outputs": []
    }
  ]
}