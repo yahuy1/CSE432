{
  "nbformat": 4,
  "nbformat_minor": 0,
  "metadata": {
    "colab": {
      "provenance": [],
      "authorship_tag": "ABX9TyN635x7OfkFkCx1DyLxetSw",
      "include_colab_link": true
    },
    "kernelspec": {
      "name": "python3",
      "display_name": "Python 3"
    },
    "language_info": {
      "name": "python"
    }
  },
  "cells": [
    {
      "cell_type": "markdown",
      "metadata": {
        "id": "view-in-github",
        "colab_type": "text"
      },
      "source": [
        "<a href=\"https://colab.research.google.com/github/yahuy1/CSE432/blob/main/HW5_Coding_nguyenhg.ipynb\" target=\"_parent\"><img src=\"https://colab.research.google.com/assets/colab-badge.svg\" alt=\"Open In Colab\"/></a>"
      ]
    },
    {
      "cell_type": "markdown",
      "source": [
        "Problem 1:"
      ],
      "metadata": {
        "id": "6dvFFKOTQtna"
      }
    },
    {
      "cell_type": "code",
      "execution_count": 18,
      "metadata": {
        "id": "kcJZoXGThyG-",
        "colab": {
          "base_uri": "https://localhost:8080/"
        },
        "outputId": "d7d622c4-f553-4791-e6f3-130d6f3f6dfd"
      },
      "outputs": [
        {
          "output_type": "stream",
          "name": "stdout",
          "text": [
            "Result with respect to w1, x1, w2, x2 respectively:\n"
          ]
        },
        {
          "output_type": "execute_result",
          "data": {
            "text/plain": [
              "(-0.0, -0.0, 0.0, 0.0)"
            ]
          },
          "metadata": {},
          "execution_count": 18
        }
      ],
      "source": [
        "import numpy as np\n",
        "\n",
        "def backpropagation1(w1, x1, w2, x2):\n",
        "  # Use np.around to prevent trigonometry functions from not reaching 0\n",
        "\n",
        "  # Forward\n",
        "  f1_1 = w1 * x1\n",
        "  f1_2 = np.around(np.sin(f1_1), decimals = 10)\n",
        "  f1_3 = f1_2**2\n",
        "  f2_1 = w2 * x2\n",
        "  f2_2 = np.around(np.cos(f2_1), decimals = 10)\n",
        "  f3 = f1_3 + f2_2\n",
        "  f4 = f3 + 2\n",
        "  f5 = 1 / f4\n",
        "\n",
        "  # Backward\n",
        "  b5 = 1\n",
        "  b4 = (-1 / (f4**2)) * b5\n",
        "  b3 = 1 * b4\n",
        "  b1_3 = 1 * b3\n",
        "  b1_2 = 2 * f1_2 * b1_3\n",
        "  b1_1 = np.around(np.cos(f1_1) * b1_2, decimals = 10)\n",
        "  b2_2 = 1 * b3\n",
        "  b2_1 = np.around(-np.sin(f2_1) * b2_2, decimals = 10)\n",
        "\n",
        "  # Result with respect to each parameter\n",
        "  partial_w1 = x1 * b1_1\n",
        "  partial_x1 = w1 * b1_1\n",
        "  partial_w2 = x2 * b2_1\n",
        "  partial_x2 = w2 * b2_1\n",
        "\n",
        "  return partial_w1, partial_x1, partial_w2, partial_x2\n",
        "\n",
        "print(\"Result with respect to w1, x1, w2, x2 respectively:\")\n",
        "backpropagation1(np.pi / 2, 1, np.pi / 2, 2)\n"
      ]
    },
    {
      "cell_type": "markdown",
      "source": [
        "Problem 2:"
      ],
      "metadata": {
        "id": "wtWPB_CGd8N9"
      }
    },
    {
      "cell_type": "code",
      "source": [
        "import numpy as np\n",
        "\n",
        "def backpropagation2(W, x):\n",
        "  # Forward\n",
        "  f = np.dot(W, x)\n",
        "\n",
        "  # Backward\n",
        "  b = 1\n",
        "\n",
        "  # Result with respect to each parameter\n",
        "  partial_W = b * np.transpose(x)\n",
        "  partial_x = np.transpose(W) * b\n",
        "\n",
        "  return partial_W, partial_x\n",
        "\n",
        "W_input = [[2, 1, 2],\n",
        "           [1, 3, 1],\n",
        "           [7, 4, 7]]\n",
        "x_input = [[-1],\n",
        "           [0],\n",
        "           [1]]\n",
        "\n",
        "W_result, x_result = backpropagation2(W_input, x_input)\n",
        "print(\"Result for W:\", W_result,\"\\n\")\n",
        "print(\"Result for x:\\n\", x_result)"
      ],
      "metadata": {
        "colab": {
          "base_uri": "https://localhost:8080/"
        },
        "id": "oXL3amIKeAnW",
        "outputId": "1686450e-74b6-4031-cca5-1860baa6d113"
      },
      "execution_count": 25,
      "outputs": [
        {
          "output_type": "stream",
          "name": "stdout",
          "text": [
            "Result for W: [[-1  0  1]] \n",
            "\n",
            "Result for x:\n",
            " [[2 1 7]\n",
            " [1 3 4]\n",
            " [2 1 7]]\n"
          ]
        }
      ]
    }
  ]
}